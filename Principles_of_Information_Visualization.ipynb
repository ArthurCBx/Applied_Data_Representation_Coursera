{
  "nbformat": 4,
  "nbformat_minor": 0,
  "metadata": {
    "colab": {
      "provenance": [],
      "authorship_tag": "ABX9TyPVB61piIeo2BB1E1mXuPVW",
      "include_colab_link": true
    },
    "kernelspec": {
      "name": "python3",
      "display_name": "Python 3"
    },
    "language_info": {
      "name": "python"
    }
  },
  "cells": [
    {
      "cell_type": "markdown",
      "metadata": {
        "id": "view-in-github",
        "colab_type": "text"
      },
      "source": [
        "<a href=\"https://colab.research.google.com/github/ArthurCBx/Applied_Data_Representation_Coursera/blob/main/Principles_of_Information_Visualization.ipynb\" target=\"_parent\"><img src=\"https://colab.research.google.com/assets/colab-badge.svg\" alt=\"Open In Colab\"/></a>"
      ]
    },
    {
      "cell_type": "markdown",
      "source": [
        "# Graphical Euristics\n",
        "\n",
        "## Data-ink ratio\n",
        "Sometimes more colorful and dense graphics are not the best for the intended purpose. Graphics with a lot of information can lead to confusion when reading and not pass the message it proposes to. The data-ink ratio is a literal volume of data by ink usage division that tries to remember the autor that cleaning the graphic/plot will likely be the best option.\n",
        "\n",
        "## Chartjunk\n",
        "Charts with a lot of information are easier to forget and to remeber details of.\n",
        "On the other hands, embelished graphics can sometimes be the exactly opposite. It will deppend on what is in the chart.\n",
        "\n",
        "## Sparkline and Lie Factor\n",
        "Sparklines are small charts added to text to help understand faster what the text is about. For example, in an excel with data of stock prices for different stocks on a month, sparklines would be small graphics with their prices during that period.\n",
        "\n",
        "Lie factor is the size of an effect shown in the graphic divided by the size of the effect actually in the data.\n",
        "\n"
      ],
      "metadata": {
        "id": "FG1MNBEqi1ce"
      }
    },
    {
      "cell_type": "markdown",
      "source": [
        "# The truthful Art (Alberto Cairo)\n",
        "\n",
        "## A good visualization is truthful\n",
        "That means that often data scients remove valuable information when cleaning a dataset in order to stand a side or just because it passed unnoticed. Skepticism is essencial. The way the data is displayed can also be biased. Increasing the size of a bar disproportionally with the increase of a value in the data is an example.\n",
        "\n",
        "## Functionality\n",
        "Displaying data in a certain way can help the audience understand faster the message beeing passed.\n",
        "\n",
        "## Beauty\n",
        "Embelishment can make a bigger impact on the audience and can make it more memorable.\n",
        "\n",
        "## Insightful\n",
        "Charts should be just a replica of the data.\n",
        "\n",
        "# Enlightening\n",
        "A combination of the previous four but with a social ethnical responsability."
      ],
      "metadata": {
        "id": "E5cajdcc00l5"
      }
    },
    {
      "cell_type": "code",
      "execution_count": null,
      "metadata": {
        "id": "l9QBDge4i0Fo"
      },
      "outputs": [],
      "source": []
    }
  ]
}