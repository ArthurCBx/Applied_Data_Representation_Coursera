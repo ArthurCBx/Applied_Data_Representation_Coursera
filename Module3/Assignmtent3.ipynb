{
  "nbformat": 4,
  "nbformat_minor": 0,
  "metadata": {
    "colab": {
      "provenance": [],
      "authorship_tag": "ABX9TyMhC9VvomkQqsoLhkVd6XxF",
      "include_colab_link": true
    },
    "kernelspec": {
      "name": "python3",
      "display_name": "Python 3"
    },
    "language_info": {
      "name": "python"
    }
  },
  "cells": [
    {
      "cell_type": "markdown",
      "metadata": {
        "id": "view-in-github",
        "colab_type": "text"
      },
      "source": [
        "<a href=\"https://colab.research.google.com/github/ArthurCBx/Applied_Data_Representation_Coursera/blob/main/Module3/Assignmtent3.ipynb\" target=\"_parent\"><img src=\"https://colab.research.google.com/assets/colab-badge.svg\" alt=\"Open In Colab\"/></a>"
      ]
    },
    {
      "cell_type": "markdown",
      "source": [
        "**Easiest option:** Implement the bar coloring as described above - a color scale with at least three colors, (e.g. blue, white, and red). Assume the user provides the y axis value of interest as a parameter or variable.\n",
        "\n",
        "**Harder option:** Implement the bar coloring as described in the paper, where the color of the bar is actually based on the amount of data covered (e.g. a gradient ranging from dark blue for the distribution being certainly below this y-axis, to white if the value is certainly contained, to dark red if the value is certainly not contained as the distribution is above the axis).\n",
        "\n",
        "**Even Harder option:** Add interactivity to the above, which allows the user to click on the y axis to set the value of interest. The bar colors should change with respect to what value the user has selected.\n",
        "\n",
        "**Hardest option:** Allow the user to interactively set a range of y values they are interested in, and recolor based on this (e.g. a y-axis band, see the paper for more details).\n"
      ],
      "metadata": {
        "id": "PNk2fGAbHM4d"
      }
    },
    {
      "cell_type": "code",
      "source": [
        "from ipywidgets import interact\n",
        "import ipywidgets as widgets\n",
        "import matplotlib.pyplot as plt\n",
        "import matplotlib.colors as mcolors\n",
        "import pandas as pd\n",
        "import numpy as np\n",
        "from scipy import stats\n",
        "\n",
        "@interact(y_axis_value=widgets.IntText(\n",
        "    value=40000,\n",
        "    description='y_axis value of interest',\n",
        "    step=500,\n",
        "    disabled=False\n",
        "))\n",
        "\n",
        "def plot_bar(y_axis_value):\n",
        "  np.random.seed(12345)\n",
        "\n",
        "  df = pd.DataFrame([np.random.normal(32000,200000,3650),\n",
        "                   np.random.normal(43000,100000,3650),\n",
        "                   np.random.normal(43500,140000,3650),\n",
        "                   np.random.normal(48000,70000,3650)],\n",
        "                  index=[1992,1993,1994,1995])\n",
        "\n",
        "  # Calculate the mean and standart deviation for each year\n",
        "  means = df.mean(axis=1)\n",
        "  stds = df.std(axis=1)\n",
        "\n",
        "  # Calculate the 95% interval of confidence for each year's statistic\n",
        "  t_crit = stats.t.ppf(0.975,df=df.shape[1]-1)\n",
        "  sems = stds / np.sqrt(df.shape[1])\n",
        "  ci95 = t_crit * sems\n",
        "\n",
        "  # Computing the probability that mean > threashold\n",
        "  probs = []\n",
        "  for mean, sem in zip(means,sems):\n",
        "    z = (y_axis_value - mean) / sem\n",
        "    p = 1 - stats.norm.cdf(z) # P(mean > threashold)\n",
        "    probs.append(p)\n",
        "\n",
        "  # Getting the color map through matplotlib\n",
        "  cmap = mcolors.LinearSegmentedColormap.from_list('blue_white_red',\n",
        "                                                  ['darkblue','white','darkred'])\n",
        "\n",
        "  # Drawing the bars with conficence intervals and color set\n",
        "  fig, ax = plt.subplots(figsize=(12,10))\n",
        "  ax.bar(range(len(df)),means,\n",
        "        yerr=ci95, capsize=12,\n",
        "        color = [cmap(v) for v in probs],\n",
        "        edgecolor='black')\n",
        "\n",
        "  # Renaming xticks to the years\n",
        "  ax.set_xticks(range(len(df)),df.index)\n",
        "\n",
        "  # Drawing a grey line on y_axis set\n",
        "  ax.axhline(y=y_axis_value, color='grey')\n",
        "\n",
        "  # Setting gradient color legend on the bottom of the figure\n",
        "  sm = plt.cm.ScalarMappable(cmap=cmap, norm=plt.Normalize(vmin=0, vmax=1))\n",
        "  sm.set_array([])\n",
        "  cbar = plt.colorbar(sm,ax=ax, ticks=np.arange(0,1,0.1),location='bottom')\n",
        "  cbar.set_label('confidence on data being above y_axis set',fontsize=13,alpha=1)\n",
        "\n",
        "  # Printing vertical lines to separate values\n",
        "  for x in np.arange(0,1.1,0.1):\n",
        "    cbar.ax.axvline(x,ymin=0,ymax=1,color='black',alpha=0.7)\n",
        "  fig.savefig('bar_plot.png')"
      ],
      "metadata": {
        "id": "Rkx6oP13HWOO"
      },
      "execution_count": null,
      "outputs": []
    },
    {
      "cell_type": "code",
      "source": [],
      "metadata": {
        "id": "2KuMJbDiuNME"
      },
      "execution_count": null,
      "outputs": []
    }
  ]
}